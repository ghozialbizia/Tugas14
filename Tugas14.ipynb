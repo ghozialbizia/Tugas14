{
  "nbformat": 4,
  "nbformat_minor": 0,
  "metadata": {
    "colab": {
      "name": "Untitled0.ipynb",
      "provenance": [],
      "authorship_tag": "ABX9TyOFLSnoAqKGVJhnpqsGSx4P",
      "include_colab_link": true
    },
    "kernelspec": {
      "name": "python3",
      "display_name": "Python 3"
    }
  },
  "cells": [
    {
      "cell_type": "markdown",
      "metadata": {
        "id": "view-in-github",
        "colab_type": "text"
      },
      "source": [
        "<a href=\"https://colab.research.google.com/github/ghozialbizia/Tugas14/blob/main/Tugas14.ipynb\" target=\"_parent\"><img src=\"https://colab.research.google.com/assets/colab-badge.svg\" alt=\"Open In Colab\"/></a>"
      ]
    },
    {
      "cell_type": "code",
      "metadata": {
        "id": "xTkXIMCS8rxf"
      },
      "source": [
        "# Import certain library to create a plot\r\n",
        "import numpy as np \r\n",
        "import matplotlib.pyplot as plt"
      ],
      "execution_count": null,
      "outputs": []
    },
    {
      "cell_type": "code",
      "metadata": {
        "id": "q_c_ZXkk8_s8"
      },
      "source": [
        "NtL = lambda n: 10*np.log10(n)"
      ],
      "execution_count": null,
      "outputs": []
    },
    {
      "cell_type": "code",
      "metadata": {
        "id": "tXeX6I7w9Cm_"
      },
      "source": [
        "LtN = lambda x: 10**(x/10)"
      ],
      "execution_count": null,
      "outputs": []
    },
    {
      "cell_type": "code",
      "metadata": {
        "id": "9KA0nEyg9EHN"
      },
      "source": [
        "def pathloss(fq,types,ht,hr,d):\r\n",
        "\r\n",
        "  # If frequency is define by the range number in MHz and then the result will assigned at Ca and Cb values\r\n",
        "  if fq in range(150,1501):\r\n",
        "    Ca=69.55\r\n",
        "    Cb=26.16\r\n",
        "  elif fq in range(1501,2001):\r\n",
        "    Ca=46.3\r\n",
        "    Cb=33.9\r\n",
        "  else:\r\n",
        "    Ca = print(\"The given frequency does not meet the C1 criteria.\")\r\n",
        "    Cb = print(\"The given frequency does not meet the C2 criteria.\")\r\n",
        "    return Ca,Cb\r\n",
        "  \r\n",
        "  # Based on the area type\r\n",
        "  if types == 'urban' :\r\n",
        "    cm=0\r\n",
        "  elif types == 'suburban' :\r\n",
        "    cm=-2*((np.log10((fq/28)**2))-5.4)\r\n",
        "  elif types == 'open':\r\n",
        "    cm=-4.78*(np.log10(fq))+18.33*(np.log10(fq))-40.94\r\n",
        "  else:\r\n",
        "    cm=print('The given area type(s) is not suitable for this parameter')\r\n",
        "  \r\n",
        "  # the value a(hr) is\r\n",
        "  ahr = (1.1*np.log10(fq)-0.7)*hr-(1.56*np.log10(fq)-1.8)\r\n",
        "\r\n",
        "  # Calculating the Path Loss Model\r\n",
        "  Lp = Ca+(Cb*np.log10(fq))-(13.83*np.log10(ht))-ahr+((44.9-6.55*np.log10(ht))*np.log10(d))-cm\r\n",
        "  return Lp"
      ],
      "execution_count": null,
      "outputs": []
    },
    {
      "cell_type": "code",
      "metadata": {
        "id": "oyhtHmv59GLN"
      },
      "source": [
        "# The input Pathloss Model Cost 231 for Different Area and Frequency\r\n",
        "\r\n",
        "# fq is the frequency in range of 150 to 2000 MHz\r\n",
        "# ht is the height of antenna transmitter in range of 30 to 200 m\r\n",
        "# hr is the height of antenna receiver in range of 1 to 20 m\r\n",
        "# types is the type of area given\r\n",
        "# d is the distance between the transmitter and receiver in m\r\n",
        "\r\n",
        "fq1=700 #in Mhz\r\n",
        "fq2=900 #in Mhz\r\n",
        "fq3=1800 #in MHz\r\n",
        "loc1='urban'\r\n",
        "loc2='suburban'\r\n",
        "loc3='open'\r\n",
        "tower=80 #in m\r\n",
        "user=1.5 #in m\r\n",
        "dmin=300 #in m\r\n",
        "dmax=1000 #in m\r\n",
        "N=200 #dots\r\n",
        "d=np.random.randint(dmin,dmax,N)\r\n",
        "\r\n",
        "# Print the randon integer of Urban area distance input\r\n",
        "print(d)"
      ],
      "execution_count": null,
      "outputs": []
    },
    {
      "cell_type": "code",
      "metadata": {
        "id": "TTw-ciEX9IQ2"
      },
      "source": [
        "# Define the Pathloss Cost 231 Model for Area by the given input\r\n",
        "LpUrban=pathloss(fq3,loc1,tower,user,d)\r\n",
        "LpSubUrban=pathloss(fq3,loc2,tower,user,d)\r\n",
        "LpOpen=pathloss(fq3,loc3,tower,user,d)\r\n",
        "\r\n",
        "# Sort the Distance for Area \r\n",
        "d_sort=d[np.argsort(d)]\r\n",
        "Urban_sort=LpUrban[np.argsort(d)]\r\n",
        "Suburban_sort=LpSubUrban[np.argsort(d)]\r\n",
        "Open_sort=LpOpen[np.argsort(d)]"
      ],
      "execution_count": null,
      "outputs": []
    },
    {
      "cell_type": "code",
      "metadata": {
        "id": "qh9K_ASK9Kfh"
      },
      "source": [
        "fig, ax = plt.subplots()\r\n",
        "ax.plot(d_sort,Urban_sort, color='b', label='Urban')\r\n",
        "ax.plot(d_sort,Suburban_sort, color='r', label='Sub Urban')\r\n",
        "ax.plot(d_sort,Open_sort, color='g', label='Open')\r\n",
        "ax.set_title('Frequency of 1800 MHz based on Type Area given')\r\n",
        "ax.set_xlabel('Distance (m)')\r\n",
        "ax.set_ylabel('Pathloss (dB)')\r\n",
        "ax.legend(loc='upper left')\r\n",
        "plt.show()"
      ],
      "execution_count": null,
      "outputs": []
    },
    {
      "cell_type": "code",
      "metadata": {
        "id": "RjMJWR3c9P_P"
      },
      "source": [
        "# Define the Pathloss Cost 231 Model for Frequency by the given input\r\n",
        "LpUrbanFQ1=pathloss(fq1,loc1,tower,user,d)\r\n",
        "LpUrbanFQ2=pathloss(fq2,loc1,tower,user,d)\r\n",
        "LpUrbanFQ3=pathloss(fq3,loc1,tower,user,d)\r\n",
        "\r\n",
        "# Sort the Distance for Area \r\n",
        "d_sort=d[np.argsort(d)]\r\n",
        "UrbanFQ_sort=LpUrbanFQ1[np.argsort(d)]\r\n",
        "UrbanFQ2_sort=LpUrbanFQ2[np.argsort(d)]\r\n",
        "UrbanFQ3_sort=LpUrbanFQ3[np.argsort(d)]"
      ],
      "execution_count": null,
      "outputs": []
    },
    {
      "cell_type": "code",
      "metadata": {
        "id": "Ca-m7BlD9S-7"
      },
      "source": [
        "\r\n",
        "fig, ax = plt.subplots()\r\n",
        "ax.plot(d_sort,UrbanFQ_sort, color='b', label='700 MHz')\r\n",
        "ax.plot(d_sort,UrbanFQ2_sort, color='r', label='900 MHz')\r\n",
        "ax.plot(d_sort,UrbanFQ3_sort, color='g', label='1800 MHz')\r\n",
        "ax.set_title('Urban Area Model based on Frequency Area given')\r\n",
        "ax.set_xlabel('Distance (m)')\r\n",
        "ax.set_ylabel('Pathloss (dB)')\r\n",
        "ax.legend(loc='upper left')\r\n",
        "plt.show()"
      ],
      "execution_count": null,
      "outputs": []
    },
    {
      "cell_type": "code",
      "metadata": {
        "id": "Jw9y160R9UPF"
      },
      "source": [
        "def ValuePrX(Ptx,Pl,Gtx,Grx):\r\n",
        "  \r\n",
        "  # Convert the Transmitter Power from mW to dBm\r\n",
        "  PtdB=NtL(Ptx)\r\n",
        "  \r\n",
        "  # Calculating the Prx value\r\n",
        "  PrX=PtdB - Pl + Gtx + Grx\r\n",
        "\r\n",
        "  # Convert the Receiver Power from dBm to mW \r\n",
        "  PrXmW=LtN(PrX)\r\n",
        "\r\n",
        "  return PrXmW"
      ],
      "execution_count": null,
      "outputs": []
    },
    {
      "cell_type": "code",
      "metadata": {
        "id": "Ajiu6jx59Vke"
      },
      "source": [
        "\r\n",
        "# The Input Receiver Power Model for Different Area and Frequency\r\n",
        "\r\n",
        "# tx is the given transmitter power value\r\n",
        "# pl is path loss value is derived from the prevoius calcultation model\r\n",
        "# gtx is the given transmitter gain value\r\n",
        "# grx is the given receiver gain value \r\n",
        "\r\n",
        "tx = 30000 # in miliwatt\r\n",
        "Pla = Urban_sort\r\n",
        "Plb = Suburban_sort\r\n",
        "Plc = Open_sort\r\n",
        "Pld = UrbanFQ_sort\r\n",
        "Ple = UrbanFQ2_sort\r\n",
        "Plf = UrbanFQ3_sort\r\n",
        "gtx = 10 # in dB\r\n",
        "grx = 2 # in dB"
      ],
      "execution_count": null,
      "outputs": []
    },
    {
      "cell_type": "code",
      "metadata": {
        "id": "DWaawAOS9W2V"
      },
      "source": [
        "# Define the Receiver Power Model for Area by the given input\r\n",
        "PrxUrban = ValuePrX(tx, Pla, gtx, grx)\r\n",
        "PrxSubUrban = ValuePrX(tx, Plb, gtx, grx)\r\n",
        "PrxOpen = ValuePrX(tx, Plc, gtx, grx)\r\n",
        "\r\n",
        "# Define the Receiver Power Model for Frequency by the given input\r\n",
        "PrxUrban700  = ValuePrX(tx, Pld, gtx, grx)\r\n",
        "PrxUrban900  = ValuePrX(tx, Ple, gtx, grx)\r\n",
        "PrxUrban1800 = ValuePrX(tx, Plf, gtx, grx)"
      ],
      "execution_count": null,
      "outputs": []
    },
    {
      "cell_type": "code",
      "metadata": {
        "id": "KYnvrqu09Zvw"
      },
      "source": [
        "fig, ax = plt.subplots()\r\n",
        "ax.plot(d_sort,PrxUrban, color='b', label='Urban')\r\n",
        "ax.plot(d_sort,PrxSubUrban, color='r', label='Sub Urban')\r\n",
        "ax.plot(d_sort,PrxOpen, color='g', label='Open')\r\n",
        "ax.set_title('Power Receive Model based on Area given')\r\n",
        "ax.set_xlabel('Distance (m)')\r\n",
        "ax.set_ylabel('Power Receive (mWatt)')\r\n",
        "ax.legend(loc='upper right')\r\n",
        "plt.show()"
      ],
      "execution_count": null,
      "outputs": []
    },
    {
      "cell_type": "code",
      "metadata": {
        "id": "wqyMTEhs9Y6n"
      },
      "source": [
        "fig, ax = plt.subplots()\r\n",
        "ax.plot(d_sort,PrxUrban700, color='b', label='700 MHz')\r\n",
        "ax.plot(d_sort,PrxUrban900, color='r', label='900 MHz')\r\n",
        "ax.plot(d_sort,PrxUrban1800, color='g', label='1800 MHz')\r\n",
        "ax.set_title('Power Receive Model based on Frequency given')\r\n",
        "ax.set_xlabel('Distance (m)')\r\n",
        "ax.set_ylabel('Power Receive (mWatt)')\r\n",
        "ax.legend(loc='upper right')\r\n",
        "plt.show()"
      ],
      "execution_count": null,
      "outputs": []
    },
    {
      "cell_type": "code",
      "metadata": {
        "id": "I0tgID759gMk"
      },
      "source": [
        "def SNRValue(Prx,BW):\r\n",
        "\r\n",
        "  # Calculating the No to BW\r\n",
        "  No=-174+10*np.log10(BW)\r\n",
        "\r\n",
        "  # Converting the No in BW to Numeric\r\n",
        "  NoW=LtN(No)\r\n",
        "\r\n",
        "  # Calculating the SNR Value\r\n",
        "  SNR= Prx/NoW\r\n",
        "\r\n",
        "  return SNR"
      ],
      "execution_count": null,
      "outputs": []
    },
    {
      "cell_type": "code",
      "metadata": {
        "id": "6Ea1PObh9gzO"
      },
      "source": [
        "# The Input SNR Model for Different Area and Frequency\r\n",
        "\r\n",
        "# prx is receiver power value derived from the previous calculation value\r\n",
        "# bw is the given bandwith value\r\n",
        "\r\n",
        "Prx1 = PrxUrban\r\n",
        "Prx2 = PrxSubUrban\r\n",
        "Prx3 = PrxOpen\r\n",
        "Prx4 = PrxUrban700\r\n",
        "Prx5 = PrxUrban900\r\n",
        "Prx6 = PrxUrban1800\r\n",
        "BW   = 50000000"
      ],
      "execution_count": null,
      "outputs": []
    },
    {
      "cell_type": "code",
      "metadata": {
        "id": "PfDyrt0n9ioA"
      },
      "source": [
        "# Define the SNR Model for Area by the given input\r\n",
        "SNRUrban = SNRValue(Prx1,BW)\r\n",
        "SNRSubUrban = SNRValue(Prx2,BW)\r\n",
        "SNROpen = SNRValue(Prx3,BW)\r\n",
        "\r\n",
        "# Define the SNR Model for Frequency by the given input\r\n",
        "SNRUrban700 = SNRValue(Prx4,BW)\r\n",
        "SNRUrban900 = SNRValue(Prx5,BW)\r\n",
        "SNRUrban1800 = SNRValue(Prx6,BW)"
      ],
      "execution_count": null,
      "outputs": []
    },
    {
      "cell_type": "code",
      "metadata": {
        "id": "qkaDJTBn9j4x"
      },
      "source": [
        "fig, ax = plt.subplots()\r\n",
        "ax.plot(d_sort,SNRUrban, color='b', label='Urban')\r\n",
        "ax.plot(d_sort,SNRSubUrban, color='r', label='Sub Urban')\r\n",
        "ax.plot(d_sort,SNROpen, color='g', label='Open')\r\n",
        "ax.set_title('Signal to Noise Ratio Model based on Area given')\r\n",
        "ax.set_xlabel('Distance (m)')\r\n",
        "ax.set_ylabel('SNR')\r\n",
        "ax.legend(loc='upper right')\r\n",
        "plt.show()"
      ],
      "execution_count": null,
      "outputs": []
    },
    {
      "cell_type": "code",
      "metadata": {
        "id": "gNx1XCdj9lRG"
      },
      "source": [
        "fig, ax = plt.subplots()\r\n",
        "ax.plot(d_sort,SNRUrban700, color='b', label='700 MHz')\r\n",
        "ax.plot(d_sort,SNRUrban900, color='r', label='900 MHz')\r\n",
        "ax.plot(d_sort,SNRUrban1800, color='g', label='1800 MHz')\r\n",
        "ax.set_title('Signal to Noise Ratio Model based on Frequency given')\r\n",
        "ax.set_xlabel('Distance (m)')\r\n",
        "ax.set_ylabel('SNR')\r\n",
        "ax.legend(loc='upper right')\r\n",
        "plt.show()"
      ],
      "execution_count": null,
      "outputs": []
    },
    {
      "cell_type": "code",
      "metadata": {
        "id": "-oOVJjA69nvf"
      },
      "source": [
        "def Capacity(SNR,BW):\r\n",
        "\r\n",
        "  # Calculating the Cell Capacity\r\n",
        "  Celcap = BW*np.log2(1+SNR)\r\n",
        "\r\n",
        "  return Celcap"
      ],
      "execution_count": null,
      "outputs": []
    },
    {
      "cell_type": "code",
      "metadata": {
        "id": "nC7bP-vd9pgd"
      },
      "source": [
        "# The Input Capacity Model for Different Area and Frequency\r\n",
        "\r\n",
        "# SNR is a signal to noise ratio value derived from the previous calculation value\r\n",
        "# BW is the given bandwith value\r\n",
        "\r\n",
        "SNR1 = SNRUrban \r\n",
        "SNR2 = SNRSubUrban\r\n",
        "SNR3 = SNROpen\r\n",
        "SNR4 = SNRUrban700\r\n",
        "SNR5 = SNRUrban900\r\n",
        "SNR6 = SNRUrban1800\r\n",
        "BW   = 50000000"
      ],
      "execution_count": null,
      "outputs": []
    },
    {
      "cell_type": "code",
      "metadata": {
        "id": "LnqlLQun9q_c"
      },
      "source": [
        "# Define the Cell Capacity Model for Area by the given input\r\n",
        "celcapUrban = Capacity(SNR1, BW)\r\n",
        "celcapSubUrban = Capacity(SNR2, BW)\r\n",
        "celcapOpen = Capacity(SNR3, BW)\r\n",
        "\r\n",
        "# Define the Cell Capacity Model for Frequency by the given input\r\n",
        "celcapUrban700 = Capacity(SNR4, BW)\r\n",
        "celcapUrban900 = Capacity(SNR5, BW)\r\n",
        "celcapUrban1800 = Capacity(SNR6, BW)"
      ],
      "execution_count": null,
      "outputs": []
    },
    {
      "cell_type": "code",
      "metadata": {
        "id": "_4vFldQu9uOV"
      },
      "source": [
        "fig, ax = plt.subplots()\r\n",
        "ax.plot(d_sort,celcapUrban, color='b', label='Urban')\r\n",
        "ax.plot(d_sort,celcapSubUrban, color='r', label='Sub Urban')\r\n",
        "ax.plot(d_sort,celcapOpen, color='g', label='Open')\r\n",
        "ax.set_title('Capacity Model based on Area given')\r\n",
        "ax.set_xlabel('Distance (m)')\r\n",
        "ax.set_ylabel('Capacity')\r\n",
        "ax.legend(loc='upper left')\r\n",
        "plt.show()"
      ],
      "execution_count": null,
      "outputs": []
    },
    {
      "cell_type": "code",
      "metadata": {
        "id": "rirsNt_d91h0"
      },
      "source": [
        "fig, ax = plt.subplots()\r\n",
        "ax.plot(d_sort,celcapUrban700, color='b', label='700 MHz')\r\n",
        "ax.plot(d_sort,celcapUrban900, color='r', label='900 MHz')\r\n",
        "ax.plot(d_sort,celcapUrban1800, color='g', label='1800 MHz')\r\n",
        "ax.set_title('Capacity Model based on Frequency given')\r\n",
        "ax.set_xlabel('Distance (m)')\r\n",
        "ax.set_ylabel('Capacity')\r\n",
        "ax.legend(loc='upper left')\r\n",
        "plt.show()"
      ],
      "execution_count": null,
      "outputs": []
    }
  ]
}